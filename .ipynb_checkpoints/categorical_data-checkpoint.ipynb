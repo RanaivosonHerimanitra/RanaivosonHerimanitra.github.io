{
 "cells": [
  {
   "cell_type": "markdown",
   "metadata": {},
   "source": [
    "# Statistical hypothesis testing with categorical variables:\n",
    "\n",
    "Whether you are a biostatistician , social scientist, researcher or simply a student, you may be interested to find relationship or association between categorical variables in your dataset and ask yourself about conclusion you may draw from your data.\n",
    "Fortunely , there exists many statistical hypothesis tests available to you:\n",
    "\n",
    "* One of them is the **Chisquare test of goodness-of-fit** which compare the distribution of your data with a theoretical distribution. One example of application is fraud detection. One can test fairness of lottery game by comparing observed occurrence of numbers that appear with distribution of these number in a random experiment.\n",
    "\n",
    "* Chisquare distribution is also used to test whether 02 categorical variables are independent are not. For example, in an iodine measurement survey, researcher may be interested in association between region of respondant and their iodine status (Insufficient-Normal-Excess).\n",
    "\n",
    "* Often times, criteria to perform **Chisquare test of independence** are not met. In this case, we could use the **Fisher exact test** which alleviates all assumptions above.\n",
    "\n",
    "* If you want to compare difference between 02 proportions from 02 independent random samples, you often come to use the **z-test**\n",
    "\n",
    "* However, samples may be paired. For example, in a polling survey, we may asked to assess opinion of citizen after and before a campaign. In a clinical trial, we often have to compare a treatment group with a placebo. These are examples of paired sample.\n",
    "\n",
    "\n",
    "\n"
   ]
  },
  {
   "cell_type": "markdown",
   "metadata": {
    "collapsed": true
   },
   "source": [
    "## Chisquare test of goodness-of-fit:"
   ]
  },
  {
   "cell_type": "markdown",
   "metadata": {},
   "source": [
    "## Chisquare test of independence:"
   ]
  },
  {
   "cell_type": "markdown",
   "metadata": {},
   "source": [
    "## One sample z-test:\n",
    "\n",
    "Suppose , we have a strong belief that in a population of girl under 17,  **25%** had already entered in their first sexual union. We randomly sample 500 and find **38%** with standard deviation of 10. The question is that is this result provides sufficient evidence that **25%** of girls under 17 had already entered in their first sexual union?\n",
    "\n",
    "* In this situation, **25%** is our null hypothesis.\n",
    "* Our alternative hypothesis is that proportion is different from **25%** (It is two-sided test but one could perform one sided test)."
   ]
  },
  {
   "cell_type": "markdown",
   "metadata": {},
   "source": [
    "## 02 paired samples z-test for comparison of proportions:"
   ]
  },
  {
   "cell_type": "code",
   "execution_count": null,
   "metadata": {
    "collapsed": true
   },
   "outputs": [],
   "source": []
  }
 ],
 "metadata": {
  "kernelspec": {
   "display_name": "Python 2",
   "language": "python",
   "name": "python2"
  },
  "language_info": {
   "codemirror_mode": {
    "name": "ipython",
    "version": 2
   },
   "file_extension": ".py",
   "mimetype": "text/x-python",
   "name": "python",
   "nbconvert_exporter": "python",
   "pygments_lexer": "ipython2",
   "version": "2.7.10"
  }
 },
 "nbformat": 4,
 "nbformat_minor": 0
}
