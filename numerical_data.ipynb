{
 "cells": [
  {
   "cell_type": "markdown",
   "metadata": {},
   "source": [
    "# Statistical hypothesis testing with numerical variables:\n",
    "\n",
    "Whether you are a biostatistician , social scientist, researcher or simply a student, you may be interested to find relationship or association between 02 or many quantitative variables in your dataset and ask yourself about conclusion you may draw from your data.\n",
    "Fortunely , there exists many statistical hypothesis tests available to you:\n",
    "\n",
    "* One of them is the **Student t-test** which allows to compare 02 means from 02 quantitative random variables.\n",
    "\n",
    "* Often times, you encounter more than 02 categories, in this case, we should use **ANOVA (Analysis of Variance)**.\n",
    "\n",
    "* Chisquare distribution is also used to test whether 02 categorical variables are independent are not. For example, in an iodine measurement survey, researcher may be interested in association between region of respondant and their iodine status (insufficient-normal-in excess).\n",
    "\n",
    "* Often times, criteria to perform **Chisquare test of independence** are not met. In this case, we could use the **Fisher exact test** which alleviates all assumptions above.\n",
    "\n",
    "\n",
    "\n"
   ]
  },
  {
   "cell_type": "markdown",
   "metadata": {
    "collapsed": true
   },
   "source": [
    "## One sample t-test:\n",
    "\n",
    "Suppose , we have a strong belief that Malagasy population has a mean height of 160 centimeter. This is our null hypothesis. Now, we randomly sample, 300 persons and measure their height. We find 144 centimeter with standard deviation of 19 (this will be our alternative hypothesis). \n",
    "\n",
    "Can we say that Malagasy population has a mean height of 160?"
   ]
  },
  {
   "cell_type": "markdown",
   "metadata": {},
   "source": [
    "## Two independent samples t-test:"
   ]
  },
  {
   "cell_type": "markdown",
   "metadata": {},
   "source": [
    "## 02 paired samples t-test:"
   ]
  },
  {
   "cell_type": "code",
   "execution_count": null,
   "metadata": {
    "collapsed": true
   },
   "outputs": [],
   "source": []
  }
 ],
 "metadata": {
  "kernelspec": {
   "display_name": "Python 2",
   "language": "python",
   "name": "python2"
  },
  "language_info": {
   "codemirror_mode": {
    "name": "ipython",
    "version": 2
   },
   "file_extension": ".py",
   "mimetype": "text/x-python",
   "name": "python",
   "nbconvert_exporter": "python",
   "pygments_lexer": "ipython2",
   "version": "2.7.10"
  }
 },
 "nbformat": 4,
 "nbformat_minor": 0
}
